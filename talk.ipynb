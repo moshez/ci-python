{
 "cells": [
  {
   "cell_type": "markdown",
   "metadata": {},
   "source": [
    "```{=latex}\n",
    "\\usepackage{hyperref}\n",
    "\\usepackage{graphicx}\n",
    "\\usepackage{listings}\n",
    "\\usepackage{textcomp}\n",
    "\\usepackage{fancyvrb}\n",
    "\n",
    "\\newcommand{\\passthrough}[1]{\\lstset{mathescape=false}#1\\lstset{mathescape=true}}\n",
    "\\newcommand{\\tightlist}{}\n",
    "```"
   ]
  },
  {
   "cell_type": "markdown",
   "metadata": {},
   "source": [
    "```{=latex}\n",
    "\\title{Best Practices for CI in Python}\n",
    "\\author{Moshe Zadka -- https://cobordism.com}\n",
    "\\date{}\n",
    "\n",
    "\\begin{document}\n",
    "\\begin{titlepage}\n",
    "\\maketitle\n",
    "\\end{titlepage}\n",
    "\n",
    "\\frame{\\titlepage}\n",
    "```"
   ]
  },
  {
   "cell_type": "markdown",
   "metadata": {},
   "source": [
    "```{=latex}\n",
    "\\begin{frame}\n",
    "\\frametitle{Acknowledgement of Country}\n",
    "\n",
    "Belmont (in San Francisco Bay Area Peninsula)\n",
    "\n",
    "Ancestral homeland of the Ramaytush Ohlone people\n",
    "\n",
    "\\end{frame}\n",
    "```"
   ]
  },
  {
   "cell_type": "markdown",
   "metadata": {},
   "source": [
    "## What is CI?"
   ]
  },
  {
   "cell_type": "markdown",
   "metadata": {},
   "source": [
    "## What is Good CI?"
   ]
  },
  {
   "cell_type": "markdown",
   "metadata": {},
   "source": [
    "## Improving Correctness"
   ]
  },
  {
   "cell_type": "markdown",
   "metadata": {},
   "source": [
    "## Improving Speed"
   ]
  },
  {
   "cell_type": "markdown",
   "metadata": {},
   "source": [
    "## Summary"
   ]
  },
  {
   "cell_type": "markdown",
   "metadata": {},
   "source": [
    "```{=latex}\n",
    "\\end{document}\n",
    "```"
   ]
  }
 ],
 "metadata": {
  "kernelspec": {
   "display_name": "Python 3 (ipykernel)",
   "language": "python",
   "name": "python3"
  },
  "language_info": {
   "codemirror_mode": {
    "name": "ipython",
    "version": 3
   },
   "file_extension": ".py",
   "mimetype": "text/x-python",
   "name": "python",
   "nbconvert_exporter": "python",
   "pygments_lexer": "ipython3",
   "version": "3.10.2"
  },
  "toc-autonumbering": false
 },
 "nbformat": 4,
 "nbformat_minor": 4
}
